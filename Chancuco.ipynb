{
  "nbformat": 4,
  "nbformat_minor": 0,
  "metadata": {
    "colab": {
      "provenance": []
    },
    "kernelspec": {
      "name": "python3",
      "display_name": "Python 3"
    },
    "language_info": {
      "name": "python"
    }
  },
  "cells": [
    {
      "cell_type": "markdown",
      "source": [
        "Se toman las variables del antecedente. Observar si hay valores iguales. Si este es el caso, modificar las posiciones $i$ correspondientes en las filas del consecuente: (los siguientes criterios son para el consecuente)\n",
        "- Si hay al menos una $a_j$, todas las filas se convierten en $a_j$\n",
        "- Si todas son $b_{ij}$, todas las filas se convierten en uno de los $b_{ij}$\n",
        "\n",
        "Formando la matriz:\n",
        "\n",
        "$\\begin{bmatrix}\n",
        "& A & B & C\\\\\n",
        "AB &&\\\\\n",
        "CB &&\\\\\n",
        "AC\n",
        "\\end{bmatrix}$\n",
        "\n",
        "Si se logra componer una fila únicamente con $a_j$, entonces se comprueba la propiedad Lossless Join (LJ)"
      ],
      "metadata": {
        "id": "sJR9Mgz4-tcZ"
      }
    },
    {
      "cell_type": "markdown",
      "source": [
        "Para formar $L_1, \\cdots,L_n$:  \n",
        "Usando los componentes en $T_1, \\cdots,T_n$, se forman las dependencias a partir del $T$ original. Para verificar las dependencias que se pierden, observar aquellas dependencias que no se encuentran en ningún $L_1, \\cdots, L_n$"
      ],
      "metadata": {
        "id": "rNY3djem_SMF"
      }
    },
    {
      "cell_type": "markdown",
      "source": [
        "Criterios para formas normales:\n",
        "\n",
        "(1) $X \\to Y$ es trivial  \n",
        "(2) $X$ es una superclave (Mayor igual que la clave)  \n",
        "(3) $Y$ es principal (Se encuentra en la clave)  \n",
        "(4) $X$ no es principal (No se encuentra en la clave)  \n",
        "\n",
        "Si todas las dependencias cumplen los criterios 1, 2 o 3, se encuentra en $3FN$.  \n",
        "Si todas las dependencias que no cumplen los criterios 1, 2 o 3, sí cumplen el criterio 4. Se encuentra en $2FN$.  \n",
        "Si se encuentra al menos una dependencia que no cumple ninguno de los criterios. Se encuentra en $1FN$.\n"
      ],
      "metadata": {
        "id": "TnQHyB61Ay_e"
      }
    },
    {
      "cell_type": "markdown",
      "source": [
        "Para sacar dependencias a partir de un texto: Toda propiedad que se pueda generalizar de la forma $x \\to y$, se convierte en una dependencia. Si alguna propiedad es una relación $1 \\to *$, no existe dependencia."
      ],
      "metadata": {
        "id": "9l5YcMjLCvym"
      }
    },
    {
      "cell_type": "markdown",
      "source": [
        "Para un diseño en 3FN sin pérdida de dependencias:  \n",
        "PASOS:"
      ],
      "metadata": {
        "id": "GdVznzU7DJCY"
      }
    },
    {
      "cell_type": "markdown",
      "source": [
        "1. Determinar en qué forma normal se encuentra $R$.\n",
        "2. Formar una relación $R_i<T_i,L_i>$ (con claves) para cada una de las dependencias obtenidas. Este conjunto $n$ se denomina $\\rho$\n",
        "3. Si la clave del conjunto de dependencias original $L$ no está contenida en ningún subesquema del conjunto $\\rho$, creamos un nuevo esquema $Rc<Tc,Lc>$ con $Tc=k$, $Lc= \\emptyset $. De forma que $\\rho$ resulta en ${R_1, \\cdots, R_n}$"
      ],
      "metadata": {
        "id": "o1_MWp9wDQiw"
      }
    }
  ]
}